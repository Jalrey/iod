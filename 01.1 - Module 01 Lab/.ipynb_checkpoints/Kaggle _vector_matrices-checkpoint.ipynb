{
 "cells": [
  {
   "cell_type": "code",
   "execution_count": 3,
   "id": "c783562f",
   "metadata": {},
   "outputs": [],
   "source": [
    "#Load Numpy Library\n",
    "import numpy as np"
   ]
  },
  {
   "cell_type": "code",
   "execution_count": 6,
   "id": "26707734",
   "metadata": {},
   "outputs": [
    {
     "name": "stdout",
     "output_type": "stream",
     "text": [
      "[1 2 3]\n"
     ]
    }
   ],
   "source": [
    "vector_row = np.array([1, 2, 3])\n",
    "print(vector_row)"
   ]
  },
  {
   "cell_type": "code",
   "execution_count": 8,
   "id": "e24ce2ed",
   "metadata": {},
   "outputs": [
    {
     "name": "stdout",
     "output_type": "stream",
     "text": [
      "[[1]\n",
      " [2]\n",
      " [3]]\n"
     ]
    }
   ],
   "source": [
    "vector_column = np.array([[1], [2], [3]])\n",
    "print(vector_column)"
   ]
  },
  {
   "cell_type": "code",
   "execution_count": 13,
   "id": "75dc90c1",
   "metadata": {},
   "outputs": [
    {
     "name": "stdout",
     "output_type": "stream",
     "text": [
      "[[ 1  2  3  4]\n",
      " [ 4  5  6  7]\n",
      " [ 7  8  9 10]]\n"
     ]
    }
   ],
   "source": [
    "mat1 = np.matrix(\"1, 2, 3, 4; 4, 5, 6, 7; 7, 8, 9,10\")\n",
    "print(mat1)"
   ]
  },
  {
   "cell_type": "code",
   "execution_count": 15,
   "id": "4a3e521d",
   "metadata": {},
   "outputs": [
    {
     "name": "stdout",
     "output_type": "stream",
     "text": [
      "[[1 2]\n",
      " [3 4]\n",
      " [4 6]]\n"
     ]
    }
   ],
   "source": [
    "mat2 = np.array([[1,2], [3,4], [4,6]])\n",
    "print(mat2)"
   ]
  },
  {
   "cell_type": "code",
   "execution_count": 17,
   "id": "8d0fd83f",
   "metadata": {},
   "outputs": [],
   "source": [
    "mat3 = np.matrix(\"1, 2, 3, 4; 4, 5, 6, 7; 7, 8, 9,10\")"
   ]
  },
  {
   "cell_type": "code",
   "execution_count": 19,
   "id": "dab5fb2d",
   "metadata": {},
   "outputs": [
    {
     "data": {
      "text/plain": [
       "(3, 4)"
      ]
     },
     "execution_count": 19,
     "metadata": {},
     "output_type": "execute_result"
    }
   ],
   "source": [
    "mat3.shape"
   ]
  },
  {
   "cell_type": "code",
   "execution_count": 21,
   "id": "af459b0d",
   "metadata": {},
   "outputs": [],
   "source": [
    "mat4 = np.matrix(\"1, 2, 3, 4; 4, 5, 6, 7; 7, 8, 9,10\")"
   ]
  },
  {
   "cell_type": "code",
   "execution_count": 23,
   "id": "e69d8f19",
   "metadata": {},
   "outputs": [
    {
     "data": {
      "text/plain": [
       "12"
      ]
     },
     "execution_count": 23,
     "metadata": {},
     "output_type": "execute_result"
    }
   ],
   "source": [
    "mat4.size"
   ]
  },
  {
   "cell_type": "code",
   "execution_count": 25,
   "id": "f74b15ed",
   "metadata": {},
   "outputs": [
    {
     "name": "stdout",
     "output_type": "stream",
     "text": [
      "[[ 1  2  3  4]\n",
      " [ 4  5  6  7]\n",
      " [ 7  8  9 10]]\n"
     ]
    }
   ],
   "source": [
    "mat5 = np.matrix(\"1, 2, 3, 4; 4, 5, 6, 7; 7, 8, 9,10\")\n",
    "print(mat5)"
   ]
  },
  {
   "cell_type": "code",
   "execution_count": 28,
   "id": "1fc2b3f2",
   "metadata": {},
   "outputs": [
    {
     "name": "stdout",
     "output_type": "stream",
     "text": [
      "[[1 1 1]]\n"
     ]
    }
   ],
   "source": [
    "col_new = np.matrix(\"1, 1, 1\")\n",
    "print(col_new)"
   ]
  },
  {
   "cell_type": "code",
   "execution_count": 32,
   "id": "c4eed27a",
   "metadata": {},
   "outputs": [
    {
     "name": "stdout",
     "output_type": "stream",
     "text": [
      "[[ 1  1  2  3  4]\n",
      " [ 1  4  5  6  7]\n",
      " [ 1  7  8  9 10]]\n"
     ]
    }
   ],
   "source": [
    "mat6 = np.insert(mat5, 0, col_new, axis =1)\n",
    "print(mat6)"
   ]
  },
  {
   "cell_type": "code",
   "execution_count": 35,
   "id": "8a182aa0",
   "metadata": {},
   "outputs": [],
   "source": [
    "row_new = np.matrix(\"0, 0, 0, 0\")"
   ]
  },
  {
   "cell_type": "code",
   "execution_count": 39,
   "id": "bc5d28fd",
   "metadata": {},
   "outputs": [
    {
     "name": "stdout",
     "output_type": "stream",
     "text": [
      "[[ 0  0  0  0]\n",
      " [ 1  2  3  4]\n",
      " [ 4  5  6  7]\n",
      " [ 7  8  9 10]]\n"
     ]
    }
   ],
   "source": [
    "mat7 = np.insert(mat5, 0,  row_new, axis = 0)\n",
    "print(mat7)"
   ]
  },
  {
   "cell_type": "code",
   "execution_count": 41,
   "id": "696f7237",
   "metadata": {},
   "outputs": [
    {
     "name": "stdout",
     "output_type": "stream",
     "text": [
      "[[ 1  2  3  4  5]\n",
      " [ 5  6  7  8  9]\n",
      " [ 9 10 11 12 13]]\n"
     ]
    }
   ],
   "source": [
    "mat_a = np.matrix(\"1, 2, 3, 4, 5; 5, 6, 7, 8, 9; 9, 10, 11, 12, 13\")\n",
    "print(mat_a)"
   ]
  },
  {
   "cell_type": "code",
   "execution_count": 43,
   "id": "5f49f217",
   "metadata": {},
   "outputs": [],
   "source": [
    "mat_a[1, 1] = 0"
   ]
  },
  {
   "cell_type": "code",
   "execution_count": 45,
   "id": "1ff53a91",
   "metadata": {},
   "outputs": [
    {
     "name": "stdout",
     "output_type": "stream",
     "text": [
      "[[ 1  2  3  4  5]\n",
      " [ 5  0  7  8  9]\n",
      " [ 9 10 11 12 13]]\n"
     ]
    }
   ],
   "source": [
    "print(mat_a)"
   ]
  },
  {
   "cell_type": "code",
   "execution_count": 57,
   "id": "40ce42d2",
   "metadata": {},
   "outputs": [
    {
     "data": {
      "text/plain": [
       "matrix([[5, 0, 7, 8, 9]])"
      ]
     },
     "execution_count": 57,
     "metadata": {},
     "output_type": "execute_result"
    }
   ],
   "source": [
    "mat_a[1, : ]"
   ]
  },
  {
   "cell_type": "code",
   "execution_count": 51,
   "id": "caada14e",
   "metadata": {},
   "outputs": [
    {
     "data": {
      "text/plain": [
       "matrix([[ 3],\n",
       "        [ 7],\n",
       "        [11]])"
      ]
     },
     "execution_count": 51,
     "metadata": {},
     "output_type": "execute_result"
    }
   ],
   "source": [
    "mat_a [ :, 2 ]"
   ]
  },
  {
   "cell_type": "code",
   "execution_count": 58,
   "id": "e2e62227",
   "metadata": {},
   "outputs": [
    {
     "data": {
      "text/plain": [
       "7"
      ]
     },
     "execution_count": 58,
     "metadata": {},
     "output_type": "execute_result"
    }
   ],
   "source": [
    "mat_a[1, 2]"
   ]
  },
  {
   "cell_type": "code",
   "execution_count": 62,
   "id": "5c82ff28",
   "metadata": {},
   "outputs": [
    {
     "name": "stdout",
     "output_type": "stream",
     "text": [
      "[[ 0  1  2  3]\n",
      " [ 4  5  6  7]\n",
      " [ 8  9 10 11]\n",
      " [12 13 14 15]\n",
      " [16 17 18 19]]\n"
     ]
    }
   ],
   "source": [
    "A = np.arange(0,20).reshape(5,4)\n",
    "print(A)"
   ]
  },
  {
   "cell_type": "code",
   "execution_count": 67,
   "id": "fd1a867a",
   "metadata": {},
   "outputs": [
    {
     "name": "stdout",
     "output_type": "stream",
     "text": [
      "[[20 21 22 23]\n",
      " [24 25 26 27]\n",
      " [28 29 30 31]\n",
      " [32 33 34 35]\n",
      " [36 37 38 39]]\n"
     ]
    }
   ],
   "source": [
    "B = np.arange(20,40).reshape(5,4)\n",
    "print(B)"
   ]
  },
  {
   "cell_type": "code",
   "execution_count": 68,
   "id": "600d9b20",
   "metadata": {},
   "outputs": [
    {
     "data": {
      "text/plain": [
       "array([[20, 22, 24, 26],\n",
       "       [28, 30, 32, 34],\n",
       "       [36, 38, 40, 42],\n",
       "       [44, 46, 48, 50],\n",
       "       [52, 54, 56, 58]])"
      ]
     },
     "execution_count": 68,
     "metadata": {},
     "output_type": "execute_result"
    }
   ],
   "source": [
    "np.add(A,B)"
   ]
  },
  {
   "cell_type": "code",
   "execution_count": 70,
   "id": "83d772a1",
   "metadata": {},
   "outputs": [
    {
     "data": {
      "text/plain": [
       "array([[-20, -20, -20, -20],\n",
       "       [-20, -20, -20, -20],\n",
       "       [-20, -20, -20, -20],\n",
       "       [-20, -20, -20, -20],\n",
       "       [-20, -20, -20, -20]])"
      ]
     },
     "execution_count": 70,
     "metadata": {},
     "output_type": "execute_result"
    }
   ],
   "source": [
    "np.subtract(A,B)"
   ]
  },
  {
   "cell_type": "code",
   "execution_count": 72,
   "id": "c9fa99e3",
   "metadata": {},
   "outputs": [
    {
     "name": "stdout",
     "output_type": "stream",
     "text": [
      "[[ 0  1  2  3]\n",
      " [ 4  5  6  7]\n",
      " [ 8  9 10 11]\n",
      " [12 13 14 15]\n",
      " [16 17 18 19]]\n"
     ]
    }
   ],
   "source": [
    "A = np.arange(0,20).reshape(5,4)\n",
    "print(A)"
   ]
  },
  {
   "cell_type": "code",
   "execution_count": 74,
   "id": "ed8d1633",
   "metadata": {},
   "outputs": [
    {
     "data": {
      "text/plain": [
       "array([[ 0,  4,  8, 12, 16],\n",
       "       [ 1,  5,  9, 13, 17],\n",
       "       [ 2,  6, 10, 14, 18],\n",
       "       [ 3,  7, 11, 15, 19]])"
      ]
     },
     "execution_count": 74,
     "metadata": {},
     "output_type": "execute_result"
    }
   ],
   "source": [
    "np.transpose(A)"
   ]
  },
  {
   "cell_type": "code",
   "execution_count": 76,
   "id": "294b21e2",
   "metadata": {},
   "outputs": [
    {
     "ename": "ValueError",
     "evalue": "shapes (5,4) and (5,4) not aligned: 4 (dim 1) != 5 (dim 0)",
     "output_type": "error",
     "traceback": [
      "\u001b[1;31m---------------------------------------------------------------------------\u001b[0m",
      "\u001b[1;31mValueError\u001b[0m                                Traceback (most recent call last)",
      "Input \u001b[1;32mIn [76]\u001b[0m, in \u001b[0;36m<cell line: 1>\u001b[1;34m()\u001b[0m\n\u001b[1;32m----> 1\u001b[0m \u001b[43mnp\u001b[49m\u001b[38;5;241;43m.\u001b[39;49m\u001b[43mdot\u001b[49m\u001b[43m(\u001b[49m\u001b[43mA\u001b[49m\u001b[43m,\u001b[49m\u001b[43mB\u001b[49m\u001b[43m)\u001b[49m\n",
      "File \u001b[1;32m<__array_function__ internals>:5\u001b[0m, in \u001b[0;36mdot\u001b[1;34m(*args, **kwargs)\u001b[0m\n",
      "\u001b[1;31mValueError\u001b[0m: shapes (5,4) and (5,4) not aligned: 4 (dim 1) != 5 (dim 0)"
     ]
    }
   ],
   "source": [
    "np.dot(A,B)"
   ]
  },
  {
   "cell_type": "code",
   "execution_count": 78,
   "id": "a96ab8d0",
   "metadata": {},
   "outputs": [
    {
     "name": "stdout",
     "output_type": "stream",
     "text": [
      "[[20 24 28 32 36]\n",
      " [21 25 29 33 37]\n",
      " [22 26 30 34 38]\n",
      " [23 27 31 35 39]]\n"
     ]
    }
   ],
   "source": [
    "T = np.transpose(B)\n",
    "print(T)"
   ]
  },
  {
   "cell_type": "code",
   "execution_count": 81,
   "id": "01731694",
   "metadata": {},
   "outputs": [
    {
     "data": {
      "text/plain": [
       "array([[ 134,  158,  182,  206,  230],\n",
       "       [ 478,  566,  654,  742,  830],\n",
       "       [ 822,  974, 1126, 1278, 1430],\n",
       "       [1166, 1382, 1598, 1814, 2030],\n",
       "       [1510, 1790, 2070, 2350, 2630]])"
      ]
     },
     "execution_count": 81,
     "metadata": {},
     "output_type": "execute_result"
    }
   ],
   "source": [
    "np.dot(A,T)"
   ]
  },
  {
   "cell_type": "code",
   "execution_count": 83,
   "id": "99c48bbb",
   "metadata": {},
   "outputs": [
    {
     "data": {
      "text/plain": [
       "array([[ 134,  158,  182,  206,  230],\n",
       "       [ 478,  566,  654,  742,  830],\n",
       "       [ 822,  974, 1126, 1278, 1430],\n",
       "       [1166, 1382, 1598, 1814, 2030],\n",
       "       [1510, 1790, 2070, 2350, 2630]])"
      ]
     },
     "execution_count": 83,
     "metadata": {},
     "output_type": "execute_result"
    }
   ],
   "source": [
    "A @ T"
   ]
  },
  {
   "cell_type": "code",
   "execution_count": 85,
   "id": "1b72be0c",
   "metadata": {},
   "outputs": [
    {
     "data": {
      "text/plain": [
       "array([[  0,  21,  44,  69],\n",
       "       [ 96, 125, 156, 189],\n",
       "       [224, 261, 300, 341],\n",
       "       [384, 429, 476, 525],\n",
       "       [576, 629, 684, 741]])"
      ]
     },
     "execution_count": 85,
     "metadata": {},
     "output_type": "execute_result"
    }
   ],
   "source": [
    "np.multiply ( A , B)"
   ]
  },
  {
   "cell_type": "code",
   "execution_count": 86,
   "id": "6aa14bca",
   "metadata": {},
   "outputs": [
    {
     "data": {
      "text/plain": [
       "array([[0.        , 0.04761905, 0.09090909, 0.13043478],\n",
       "       [0.16666667, 0.2       , 0.23076923, 0.25925926],\n",
       "       [0.28571429, 0.31034483, 0.33333333, 0.35483871],\n",
       "       [0.375     , 0.39393939, 0.41176471, 0.42857143],\n",
       "       [0.44444444, 0.45945946, 0.47368421, 0.48717949]])"
      ]
     },
     "execution_count": 86,
     "metadata": {},
     "output_type": "execute_result"
    }
   ],
   "source": [
    "np.divide ( A, B )"
   ]
  }
 ],
 "metadata": {
  "kernelspec": {
   "display_name": "Python 3 (ipykernel)",
   "language": "python",
   "name": "python3"
  },
  "language_info": {
   "codemirror_mode": {
    "name": "ipython",
    "version": 3
   },
   "file_extension": ".py",
   "mimetype": "text/x-python",
   "name": "python",
   "nbconvert_exporter": "python",
   "pygments_lexer": "ipython3",
   "version": "3.9.12"
  }
 },
 "nbformat": 4,
 "nbformat_minor": 5
}
